{
 "cells": [
  {
   "cell_type": "code",
   "execution_count": 1,
   "id": "d654fe43-221c-4ac5-8ad4-234dcf2c1b31",
   "metadata": {},
   "outputs": [
    {
     "name": "stdin",
     "output_type": "stream",
     "text": [
      "City name:  kolkata\n"
     ]
    },
    {
     "name": "stdout",
     "output_type": "stream",
     "text": [
      "Temp: 33.2 °C\n",
      "Wind: 7.9 m/s\n"
     ]
    }
   ],
   "source": [
    "import requests\n",
    "\n",
    "city = input(\"City name: \")\n",
    "geo = requests.get(\"https://geocoding-api.open-meteo.com/v1/search?name=\" + city).json()\n",
    "\n",
    "if \"results\" in geo:\n",
    "    lat = geo[\"results\"][0][\"latitude\"]\n",
    "    lon = geo[\"results\"][0][\"longitude\"]\n",
    "\n",
    "    weather = requests.get(\"https://api.open-meteo.com/v1/forecast?latitude=\" + str(lat) + \"&longitude=\" + str(lon) + \"&current=temperature_2m,wind_speed_10m\").json()\n",
    "\n",
    "    if \"current\" in weather:\n",
    "        print(\"Temp:\", weather[\"current\"][\"temperature_2m\"], \"°C\")\n",
    "        print(\"Wind:\", weather[\"current\"][\"wind_speed_10m\"], \"m/s\")\n",
    "    else:\n",
    "        print(\"No weather data found.\")\n",
    "else:\n",
    "    print(\"City not found.\")\n"
   ]
  },
  {
   "cell_type": "code",
   "execution_count": null,
   "id": "283e88bf-0c0d-4afc-b28b-d33e3923e81e",
   "metadata": {},
   "outputs": [],
   "source": []
  }
 ],
 "metadata": {
  "kernelspec": {
   "display_name": "Python 3 (ipykernel)",
   "language": "python",
   "name": "python3"
  },
  "language_info": {
   "codemirror_mode": {
    "name": "ipython",
    "version": 3
   },
   "file_extension": ".py",
   "mimetype": "text/x-python",
   "name": "python",
   "nbconvert_exporter": "python",
   "pygments_lexer": "ipython3",
   "version": "3.13.5"
  }
 },
 "nbformat": 4,
 "nbformat_minor": 5
}
